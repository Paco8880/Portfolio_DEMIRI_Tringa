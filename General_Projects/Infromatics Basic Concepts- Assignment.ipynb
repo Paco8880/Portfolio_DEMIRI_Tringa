{
 "cells": [
  {
   "cell_type": "code",
   "execution_count": 2,
   "id": "technological-particle",
   "metadata": {
    "id": "DTTNYLhJuISK",
    "tags": []
   },
   "outputs": [],
   "source": [
    "################################################################################\n",
    "# Author:      Tringa Demiri\n",
    "# MatNr:       11845777\n",
    "# File:        assignment1.ipynb\n",
    "# Description: ... short description of the file ...\n",
    "# Comments:    ... comments for the tutors ...\n",
    "#              ... can be multiline ...\n",
    "################################################################################"
   ]
  },
  {
   "cell_type": "markdown",
   "id": "rolled-sponsorship",
   "metadata": {},
   "source": [
    "<center>\n",
    "    <h1>Assignment 1 (15 P)</h1>\n",
    "    <h3>- \"Basic Programming Concepts\" -</h3> \n",
    "</center>"
   ]
  },
  {
   "cell_type": "markdown",
   "id": "c8aa49c5",
   "metadata": {},
   "source": [
    "#### Imports"
   ]
  },
  {
   "cell_type": "code",
   "execution_count": 1,
   "id": "5cafecf0",
   "metadata": {},
   "outputs": [],
   "source": [
    "# Import your packages here:\n",
    "import math"
   ]
  },
  {
   "cell_type": "markdown",
   "id": "important-joining",
   "metadata": {},
   "source": [
    "## 1. Functions"
   ]
  },
  {
   "cell_type": "markdown",
   "id": "exciting-particular",
   "metadata": {},
   "source": [
    "### 1.1 Get your Movie Ticket\n",
    "#### Required Function: `print_ticket`"
   ]
  },
  {
   "cell_type": "code",
   "execution_count": 33,
   "id": "arbitrary-economics",
   "metadata": {},
   "outputs": [],
   "source": [
    "def print_ticket() -> None:\n",
    "    name = \"Tringa\"\n",
    "    matriculation_number = 11184577\n",
    "\n",
    "    print(\n",
    "        f\"Welcome aboard {name}! Your ticket number is {matriculation_number}. \"\n",
    "        \"I wish you a pleasant journey!\"\n",
    "    )\n"
   ]
  },
  {
   "cell_type": "code",
   "execution_count": 34,
   "id": "cutting-circuit",
   "metadata": {
    "tags": []
   },
   "outputs": [
    {
     "name": "stdout",
     "output_type": "stream",
     "text": [
      "Welcome aboard Tringa! Your ticket number is 11184577. I wish you a pleasant journey!\n"
     ]
    }
   ],
   "source": [
    "print_ticket()"
   ]
  },
  {
   "cell_type": "markdown",
   "id": "inner-complexity",
   "metadata": {},
   "source": [
    "### 1.2 Uno Uno! \n",
    "#### Required Function: `binomial_coefficient`"
   ]
  },
  {
   "cell_type": "code",
   "execution_count": 41,
   "id": "steady-reggae",
   "metadata": {},
   "outputs": [
    {
     "name": "stdout",
     "output_type": "stream",
     "text": [
      "The binomial coefficient (32 choose 4) is: 35960\n"
     ]
    }
   ],
   "source": [
    "import math\n",
    "\n",
    "n = 32\n",
    "k = 4\n",
    "\n",
    "def binomial_coefficient(n: int, k: int) -> int:\n",
    "    \"\"\"Calculate the binomial coefficient (n choose k).\"\"\"\n",
    "    return math.comb(n, k) # Using math.comb for the calculation\n",
    "\n",
    "# Call the function and store the result\n",
    "result = binomial_coefficient(n, k)\n",
    "\n",
    "print(f\"The binomial coefficient ({n} choose {k}) is: {result}\")"
   ]
  },
  {
   "cell_type": "code",
   "execution_count": 44,
   "id": "compressed-motorcycle",
   "metadata": {
    "tags": []
   },
   "outputs": [
    {
     "data": {
      "text/plain": [
       "35960"
      ]
     },
     "execution_count": 44,
     "metadata": {},
     "output_type": "execute_result"
    }
   ],
   "source": [
    "binomial_coefficient(32,4)"
   ]
  },
  {
   "cell_type": "markdown",
   "id": "superior-gathering",
   "metadata": {},
   "source": [
    "## 2. Conditional Statements\n",
    "### 2.1 Calculate a student's Informatics 1 grade\n",
    "#### Required Function: `calculate_informatics1_grade`"
   ]
  },
  {
   "cell_type": "code",
   "execution_count": 27,
   "id": "sensitive-spine",
   "metadata": {},
   "outputs": [],
   "source": [
    "def calculate_informatics1_grade(\n",
    "    is_ass1_submitted: bool,\n",
    "    is_ass2_submitted: bool,\n",
    "    ass1_points: float,\n",
    "    ass2_points: float,\n",
    "    lp_points: float,\n",
    "    exam_points: float,\n",
    "    bonus_points: float\n",
    ") -> int:\n",
    "    if not is_ass1_submitted:\n",
    "        print(\n",
    "    \"As you didn't submit Assignment 1, you were deregistered from the course \"\n",
    "    \"and receive no grade.\"\n",
    ")\n",
    "\n",
    "        return -1  # Use -1 to indicate no grade, or another sentinel value\n",
    "    \n",
    "    if not is_ass2_submitted:\n",
    "        print(\"As you didn't submit Assignment 2, your Informatics 1 grade is 5.\")\n",
    "        return 5\n",
    "    \n",
    "    if exam_points <= 7.5:\n",
    "        print(\"As you didn't pass the Lecture Exam, your Informatics 1 grade is 5.\")\n",
    "        return 5\n",
    "    \n",
    "    practical_points = min(ass1_points + ass2_points + lp_points, 85)\n",
    "    preliminary_points = practical_points + exam_points\n",
    "    if preliminary_points > 50:\n",
    "        practical_points = min(practical_points + bonus_points, 85)\n",
    "    \n",
    "    total_points = practical_points + exam_points\n",
    "    \n",
    "    # Assign grade based on total_points\n",
    "    if total_points > 90:\n",
    "        grade = 1\n",
    "    elif total_points > 80:\n",
    "        grade = 2\n",
    "    elif total_points > 65:\n",
    "        grade = 3\n",
    "    elif total_points > 50:\n",
    "        grade = 4\n",
    "    else:\n",
    "        grade = 5\n",
    "    \n",
    "    print(f\"You have {total_points} total points, and your Informatics 1 grade is {grade}.\")\n",
    "    return grade\n"
   ]
  },
  {
   "cell_type": "code",
   "execution_count": 28,
   "id": "sharp-tissue",
   "metadata": {
    "tags": []
   },
   "outputs": [
    {
     "name": "stdout",
     "output_type": "stream",
     "text": [
      "You have 92.0 total points, and your Informatics 1 grade is 1.\n",
      "1\n"
     ]
    }
   ],
   "source": [
    "print(calculate_informatics1_grade(True, True, 15.0, 30.0, 34.0, 8.0, 5.0))"
   ]
  },
  {
   "cell_type": "markdown",
   "id": "satisfied-bridal",
   "metadata": {},
   "source": [
    "## 3. Sequences and Sets\n",
    "### 3.1 Pizzeria Restaurant\n",
    "#### Required Function: `take_order`"
   ]
  },
  {
   "cell_type": "code",
   "execution_count": 10,
   "id": "intended-steering",
   "metadata": {},
   "outputs": [],
   "source": [
    "order = [\"HELLO\", \"CAN\", \"I\", \"PLEASE\", \"ORDER\", \"A\", \"MARGARITHA\"]"
   ]
  },
  {
   "cell_type": "code",
   "execution_count": 35,
   "id": "gothic-kinase",
   "metadata": {},
   "outputs": [],
   "source": [
    "def take_order(order: list[str]) -> str:\n",
    "    # Capitalize the first word and lowercase the rest\n",
    "    formatted_order = [order[0].capitalize()] + [word.lower() for word in order[1:]]\n",
    "    # Join the list into a sentence and add a period at the end\n",
    "    return \" \".join(formatted_order)"
   ]
  },
  {
   "cell_type": "code",
   "execution_count": 36,
   "id": "starting-complex",
   "metadata": {
    "tags": []
   },
   "outputs": [
    {
     "name": "stdout",
     "output_type": "stream",
     "text": [
      "Hello can i please have a pizza\n"
     ]
    }
   ],
   "source": [
    "print(take_order([\"HELLO\", \"CAN\", \"I\", \"PLEASE\", \"HAVE\", \"A\", \"PIZZA\"]))"
   ]
  },
  {
   "cell_type": "markdown",
   "id": "imposed-investigator",
   "metadata": {},
   "source": [
    "### 3.2 Restaurant Prices\n",
    "#### Required Function: `get_average_price`"
   ]
  },
  {
   "cell_type": "code",
   "execution_count": 12,
   "id": "former-induction",
   "metadata": {},
   "outputs": [],
   "source": [
    "bills = [[12.90, 11.50], [22.0, 28.4, 5.95, 5.20], [9.80, 11.20, 5.90, 5.20]]"
   ]
  },
  {
   "cell_type": "code",
   "execution_count": 13,
   "id": "stuffed-edition",
   "metadata": {},
   "outputs": [],
   "source": [
    "def get_average_price(bills: list[list[float]]) -> float:\n",
    "    # Calculate the total for each bill and print it\n",
    "    bill_totals = []\n",
    "    for i, bill in enumerate(bills, start=1):\n",
    "        total = sum(bill)\n",
    "        bill_totals.append(total)\n",
    "        print(f\"- For restaurant {i} you paid {total:.2f} Euro.\")\n",
    "    \n",
    "    # Calculate the average of these totals\n",
    "    average_price = round(sum(bill_totals) / len(bill_totals), 2) if bill_totals else 0.0\n",
    "    return average_price\n"
   ]
  },
  {
   "cell_type": "code",
   "execution_count": 16,
   "id": "determined-blackjack",
   "metadata": {
    "tags": []
   },
   "outputs": [
    {
     "name": "stdout",
     "output_type": "stream",
     "text": [
      "- For restaurant 1 you paid 24.40 Euro.\n",
      "- For restaurant 2 you paid 61.55 Euro.\n",
      "- For restaurant 3 you paid 32.10 Euro.\n",
      "39.35\n"
     ]
    }
   ],
   "source": [
    "bills = [\n",
    "    [12.90, 11.50],\n",
    "    [22.0, 28.4, 5.95, 5.20],\n",
    "    [9.80, 11.20, 5.90, 5.20],\n",
    "]\n",
    "print(get_average_price(bills))"
   ]
  },
  {
   "cell_type": "markdown",
   "id": "ac39f067",
   "metadata": {},
   "source": [
    "### 3.3 Vacation\n",
    "#### Required Function: `group_compare`"
   ]
  },
  {
   "cell_type": "code",
   "execution_count": 1,
   "id": "c965d6cd",
   "metadata": {},
   "outputs": [],
   "source": [
    "italy = {'Anna', 'Benedikt', 'Claudia', 'Daniel', 'Eva', 'Peter'}\n",
    "spain = {'Claudia', 'Daniel', 'Felix', 'Greta', 'Hannah'}"
   ]
  },
  {
   "cell_type": "code",
   "execution_count": 37,
   "id": "5bb5cc98",
   "metadata": {},
   "outputs": [],
   "source": [
    "def group_compare(italy: set[str], spain: set[str]) -> tuple[set[str], set[str], set[str], set[str]]:\n",
    "    # 1. Travelers who visit both destinations (intersection)\n",
    "    both_destinations = italy & spain\n",
    "    \n",
    "    # 2. Travelers who visit only Italy (difference)\n",
    "    only_italy = italy - spain\n",
    "    \n",
    "    # 3. Travelers who visit only one of the destinations (symmetric difference)\n",
    "    only_one_destination = italy ^ spain\n",
    "    \n",
    "    # 4. Travelers who visit at least one of the destinations (union)\n",
    "    at_least_one = italy | spain\n",
    "    \n",
    "    # Return the results as a tuple of sets\n",
    "    return (both_destinations, only_italy, only_one_destination, at_least_one)\n"
   ]
  },
  {
   "cell_type": "code",
   "execution_count": 38,
   "id": "e43ad4bc",
   "metadata": {},
   "outputs": [
    {
     "name": "stdout",
     "output_type": "stream",
     "text": [
      "({'Daniel', 'Claudia'}, {'Benedikt', 'Peter', 'Eva', 'Anna'}, {'Felix', 'Benedikt', 'Anna', 'Eva', 'Peter', 'Greta', 'Hannah'}, {'Benedikt', 'Felix', 'Claudia', 'Daniel', 'Anna', 'Eva', 'Peter', 'Greta', 'Hannah'})\n"
     ]
    }
   ],
   "source": [
    "italy = {'Anna', 'Benedikt', 'Claudia', 'Daniel', 'Eva', 'Peter'}\n",
    "spain = {'Claudia', 'Daniel', 'Felix', 'Greta', 'Hannah'}\n",
    "\n",
    "result = group_compare(italy, spain)\n",
    "print(result)"
   ]
  },
  {
   "cell_type": "markdown",
   "id": "unexpected-villa",
   "metadata": {},
   "source": [
    "## 4. Dictionaries\n",
    "### 4.1 Sights\n",
    "#### Required Function: `find_sights`"
   ]
  },
  {
   "cell_type": "code",
   "execution_count": 39,
   "id": "comic-pharmacology",
   "metadata": {},
   "outputs": [],
   "source": [
    "sights = {\n",
    "    \"Stephansdom\": {\"entrance_fee\": 0, \"rating\": 4.7},\n",
    "    \"Haus der Natur Salzburg\": {\"entrance_fee\": 8, \"rating\": 4.4},\n",
    "    \"Schloss Schönbrunn\": {\"entrance_fee\": 18, \"rating\": 4.8},\n",
    "    \"Burg Forchtenstein\": {\"entrance_fee\": 13, \"rating\": 4.2},\n",
    "    \"Bergisel Sprungschanze\": {\"entrance_fee\": 9, \"rating\": 4.6},\n",
    "    \"Stift Melk\": {\"entrance_fee\": 12, \"rating\": 4.3}\n",
    "}\n",
    "\n",
    "max_price = 20\n",
    "min_rating = 4.6"
   ]
  },
  {
   "cell_type": "code",
   "execution_count": 40,
   "id": "attended-aquarium",
   "metadata": {},
   "outputs": [],
   "source": [
    "def find_sights(\n",
    "    sights: dict[str, dict[str, float]], max_price: float, min_rating: float\n",
    ") -> tuple[dict[str, float], dict[str, float]]:\n",
    "    # Dictionaries to store sights that meet and do not meet the criteria\n",
    "    fulfilling_sights = {}\n",
    "    non_fulfilling_sights = {}\n",
    "\n",
    "    # Loop through each sight in the sights dictionary\n",
    "    for name, info in sights.items():\n",
    "        entrance_fee = float(info[\"entrance_fee\"])\n",
    "        rating = float(info[\"rating\"])\n",
    "\n",
    "        # Check if the sight meets the criteria\n",
    "        if entrance_fee <= max_price and rating >= min_rating:\n",
    "            # Store as integer if it has no decimal portion\n",
    "            formatted_fee = int(entrance_fee) if entrance_fee.is_integer() else entrance_fee\n",
    "            fulfilling_sights[name] = formatted_fee\n",
    "            print(f\"{name}: {formatted_fee} Euro, {rating} Stars\")\n",
    "        else:\n",
    "            # Store as integer if it has no decimal portion\n",
    "            formatted_fee = int(entrance_fee) if entrance_fee.is_integer() else entrance_fee\n",
    "            non_fulfilling_sights[name] = formatted_fee\n",
    "\n",
    "    # If no sights meet the criteria, print a specific message\n",
    "    if not fulfilling_sights:\n",
    "       print(\n",
    "            f\"No sights with an entrance fee of at most {max_price} Euro and \"\n",
    "            f\"a rating of at least {min_rating} Stars.\"\n",
    "        )\n",
    "\n",
    "    # Return the tuple of dictionaries\n",
    "    return (fulfilling_sights, non_fulfilling_sights)\n"
   ]
  },
  {
   "cell_type": "code",
   "execution_count": 31,
   "id": "starting-trading",
   "metadata": {
    "tags": []
   },
   "outputs": [
    {
     "name": "stdout",
     "output_type": "stream",
     "text": [
      "Stephansdom: 0 Euro, 4.7 Stars\n",
      "Schloss Schönbrunn: 18 Euro, 4.8 Stars\n",
      "Bergisel Sprungschanze: 9 Euro, 4.6 Stars\n",
      "({'Stephansdom': 0, 'Schloss Schönbrunn': 18, 'Bergisel Sprungschanze': 9}, {'Haus der Natur Salzburg': 8, 'Burg Forchtenstein': 13, 'Stift Melk': 12})\n"
     ]
    }
   ],
   "source": [
    "sights = {\n",
    "    \"Stephansdom\": {\"entrance_fee\": \"0\", \"rating\": \"4.7\"},\n",
    "    \"Haus der Natur Salzburg\": {\"entrance_fee\": \"8\", \"rating\": \"4.4\"},\n",
    "    \"Schloss Schönbrunn\": {\"entrance_fee\": \"18\", \"rating\": \"4.8\"},\n",
    "    \"Burg Forchtenstein\": {\"entrance_fee\": \"13\", \"rating\": \"4.2\"},\n",
    "    \"Bergisel Sprungschanze\": {\"entrance_fee\": \"9\", \"rating\": \"4.6\"},\n",
    "    \"Stift Melk\": {\"entrance_fee\": \"12\", \"rating\": \"4.3\"},\n",
    "}\n",
    "\n",
    "max_price = 20\n",
    "min_rating = 4.6\n",
    "\n",
    "result = find_sights(sights, max_price, min_rating)\n",
    "print(result)"
   ]
  },
  {
   "cell_type": "markdown",
   "id": "2e68c412",
   "metadata": {},
   "source": [
    "## 5.1 Strings\n",
    "### 5.1 Bottle mail\n",
    "#### Required Function: `decipher_bottle_message`"
   ]
  },
  {
   "cell_type": "code",
   "execution_count": 4,
   "id": "a27d3568",
   "metadata": {},
   "outputs": [],
   "source": [
    "bottle_message = [\n",
    "    \"L!OnGr:::AT-;-uXAT???yONS,+\", \n",
    "    \"q??;oU !h::avM +RMaLHmd +ThM+\", \n",
    "    \"mNz. +n!OF !+Go+ ToUlh+\", \n",
    "    \"Sokm+ gr!!ASS;.\"\n",
    "]\n",
    "deciphering = {\"L\": \"C\", \"X\": \"L\", \"Y\": \"I\", \"M\": \"E\", \"F\": \"W\", \"Q\": \"Y\", \"Z\": \"D\", \"K\": \"M\"}\n",
    "special_symbols = (\"!\", \":\", \";\", \"-\", \"?\", \"+\")"
   ]
  },
  {
   "cell_type": "code",
   "execution_count": 11,
   "id": "4eb55b57",
   "metadata": {},
   "outputs": [],
   "source": [
    "def decipher_bottle_message(\n",
    "    bottle_message: list[str],\n",
    "    deciphering: dict[str, str],\n",
    "    special_symbols: tuple[str, ...]\n",
    ") -> str:\n",
    "    decoded_message = []\n",
    "\n",
    "    # Process each string in the bottle message\n",
    "    for part in bottle_message:\n",
    "        for symbol in part:\n",
    "            # Skip special symbols\n",
    "            if symbol in special_symbols:\n",
    "                continue\n",
    "            # Convert symbol to uppercase and replace if in deciphering dictionary\n",
    "            upper_symbol = symbol.upper()\n",
    "            decoded_char = deciphering.get(upper_symbol, symbol)\n",
    "            decoded_message.append(decoded_char)\n",
    "        # Add a space after each segment in bottle_message\n",
    "        decoded_message.append(\" \")\n",
    "\n",
    "    # Join and clean up the final decoded message\n",
    "    decoded_text = \"\".join(decoded_message).strip()\n",
    "    decoded_text = \" \".join(decoded_text.split())\n",
    "\n",
    "    # Capitalize each word (title case)\n",
    "    decoded_text = decoded_text.title()\n",
    "\n",
    "    return decoded_text\n"
   ]
  },
  {
   "cell_type": "code",
   "execution_count": 12,
   "id": "98738bb6",
   "metadata": {},
   "outputs": [
    {
     "name": "stdout",
     "output_type": "stream",
     "text": [
      "Congratulations, You Have Reached The End. Now Go Touch Some Grass.\n"
     ]
    }
   ],
   "source": [
    "bottle_message = [\n",
    "    \"L!OnGr:::AT-;-uXAT???yONS,+\", \n",
    "    \"q??;oU !h::avM +RMaLHmd +ThM+\", \n",
    "    \"mNz. +n!OF !+Go+ ToUlh+\", \n",
    "    \"Sokm+ gr!!ASS;.\"\n",
    "]\n",
    "deciphering = {\"L\": \"C\", \"X\": \"L\", \"Y\": \"I\", \"M\": \"E\", \"F\": \"W\", \"Q\": \"Y\", \"Z\": \"D\", \"K\": \"M\"}\n",
    "special_symbols = (\"!\", \":\", \";\", \"-\", \"?\", \"+\")\n",
    "\n",
    "# Call the function and print the result\n",
    "result = decipher_bottle_message(bottle_message, deciphering, special_symbols)\n",
    "print(result)"
   ]
  },
  {
   "cell_type": "code",
   "execution_count": null,
   "id": "f72ff5bc",
   "metadata": {},
   "outputs": [],
   "source": []
  }
 ],
 "metadata": {
  "kernelspec": {
   "display_name": "Python 3 (ipykernel)",
   "language": "python",
   "name": "python3"
  },
  "language_info": {
   "codemirror_mode": {
    "name": "ipython",
    "version": 3
   },
   "file_extension": ".py",
   "mimetype": "text/x-python",
   "name": "python",
   "nbconvert_exporter": "python",
   "pygments_lexer": "ipython3",
   "version": "3.9.12"
  }
 },
 "nbformat": 4,
 "nbformat_minor": 5
}
