{
 "cells": [
  {
   "cell_type": "code",
   "execution_count": 6,
   "id": "08fd01ee",
   "metadata": {},
   "outputs": [
    {
     "name": "stdout",
     "output_type": "stream",
     "text": [
      "Defaulting to user installation because normal site-packages is not writeable\n",
      "Requirement already satisfied: pandas in c:\\users\\tring\\appdata\\roaming\\python\\python313\\site-packages (2.2.3)\n",
      "Requirement already satisfied: numpy>=1.26.0 in c:\\users\\tring\\appdata\\roaming\\python\\python313\\site-packages (from pandas) (2.1.3)\n",
      "Requirement already satisfied: python-dateutil>=2.8.2 in c:\\users\\tring\\appdata\\roaming\\python\\python313\\site-packages (from pandas) (2.9.0.post0)\n",
      "Requirement already satisfied: pytz>=2020.1 in c:\\users\\tring\\appdata\\roaming\\python\\python313\\site-packages (from pandas) (2024.2)\n",
      "Requirement already satisfied: tzdata>=2022.7 in c:\\users\\tring\\appdata\\roaming\\python\\python313\\site-packages (from pandas) (2024.2)\n",
      "Requirement already satisfied: six>=1.5 in c:\\users\\tring\\appdata\\roaming\\python\\python313\\site-packages (from python-dateutil>=2.8.2->pandas) (1.16.0)\n",
      "Defaulting to user installation because normal site-packages is not writeable\n",
      "Requirement already satisfied: numpy in c:\\users\\tring\\appdata\\roaming\\python\\python313\\site-packages (2.1.3)\n",
      "Defaulting to user installation because normal site-packages is not writeable\n",
      "Requirement already satisfied: faker in c:\\users\\tring\\appdata\\roaming\\python\\python313\\site-packages (37.4.2)\n",
      "Requirement already satisfied: tzdata in c:\\users\\tring\\appdata\\roaming\\python\\python313\\site-packages (from faker) (2024.2)\n"
     ]
    }
   ],
   "source": [
    "!pip install pandas \n",
    "!pip install numpy \n",
    "!pip install faker \n"
   ]
  },
  {
   "cell_type": "markdown",
   "id": "804a4411",
   "metadata": {},
   "source": [
    "# Creating the technician table\n",
    "### This is the first step into creating this synthetic data that will later be used for research and visualisation purposes\n",
    "#### What is needed:\n",
    "##### - a unique ID\n",
    "##### - a full name\n",
    "##### - a region\n",
    "##### - an experience level\n",
    "### _Faker_ will be used to generate names; _random.choice()_ will be used to assign region and experience levels; _pandas_ to store and import the data."
   ]
  },
  {
   "cell_type": "code",
   "execution_count": 23,
   "id": "06cb80dc",
   "metadata": {},
   "outputs": [],
   "source": [
    "import pandas as pd\n",
    "import random\n",
    "from faker import Faker\n",
    "import numpy as np"
   ]
  },
  {
   "cell_type": "code",
   "execution_count": 11,
   "id": "51aabd74",
   "metadata": {},
   "outputs": [],
   "source": [
    "# initializing faker and setting up the constrains\n",
    "\n",
    "fake = Faker()\n",
    "\n",
    "num_techs = 1000 # Number of techicians to generate\n",
    "technicians = []\n",
    "\n",
    "# Defining regions and level of experience\n",
    "regions = ['North','South','East','West']\n",
    "levels = ['Junior', 'Mid', 'Senior']\n",
    "\n",
    "for i in range(1, num_techs + 1):\n",
    "    tech = { \n",
    "        'technician_id' : f'T{i:03}',\n",
    "        'name': fake.name(),\n",
    "        'region': random.choice(regions),\n",
    "        'experience_level': random.choice(levels)\n",
    "    }\n",
    "    technicians.append(tech)\n",
    "df_techs = pd.DataFrame(technicians)\n",
    "df_techs.to_csv(\"technicians.csv\", index = False)"
   ]
  },
  {
   "cell_type": "markdown",
   "id": "23e74b43",
   "metadata": {},
   "source": [
    "# Table for the Machines\n",
    "## This table includes \n",
    "### - a unique Machine ID\n",
    "### - Machine type (such as Pump, Press, Conveyor)\n",
    "### - Installation date\n",
    "### - Location (region)\n",
    "### - Status ( Active/ Inactive)"
   ]
  },
  {
   "cell_type": "code",
   "execution_count": 15,
   "id": "d56fce28",
   "metadata": {},
   "outputs": [],
   "source": [
    "num_machines = 5000\n",
    "machine_types = ['Pump', \n",
    "               'Press', \n",
    "               'Conveyor', \n",
    "               'Welder',\n",
    "               'CNC-Machine',\n",
    "               'Compressor',\n",
    "               'Lathe',\n",
    "               '3D Print',\n",
    "               'Packaging Unit',\n",
    "               'Drill',\n",
    "               'Mixer',\n",
    "               'Laser Cutter',\n",
    "               'Grinder',\n",
    "               'Furnace'\n",
    "               ]\n",
    "statuses= ['Active', 'Inactive']"
   ]
  },
  {
   "cell_type": "code",
   "execution_count": 19,
   "id": "8f4b8617",
   "metadata": {},
   "outputs": [],
   "source": [
    "# creating the machine records\n",
    "\n",
    "machines = []\n",
    "\n",
    "for i in range (1, num_machines + 1):\n",
    "    machine = {\n",
    "        'machine_id': f'M{i:03}',\n",
    "        'type': random.choice(machine_types),\n",
    "        'install_date': fake.date_between (start_date = '-3y', end_date = '-6m'),\n",
    "        'region': random.choice(regions),\n",
    "        'status': random.choice(statuses)\n",
    "    }\n",
    "\n",
    "    machines.append(machine)\n",
    "    \n",
    "df_machines = pd.DataFrame(machines)\n",
    "df_machines.to_csv(\"machines.csv\", index = False)"
   ]
  },
  {
   "cell_type": "markdown",
   "id": "2e51666d",
   "metadata": {},
   "source": [
    "# Service Calls Table\n",
    "## This table links one technician (from technicians.csv) to one machine from (machines.csv), a date an issue type and a duration (in hours)\n",
    "### This Table will contain:\n",
    "#### - call_id: unique identifier\n",
    "#### - date: when the service occurred\n",
    "#### - technician_id: who did the job (FK)\n",
    "#### - machine_id: which machine (FK)\n",
    "#### - issue_type: what kind of problem occurred\n",
    "#### - duration_hours: time it took to fix (float)"
   ]
  },
  {
   "cell_type": "code",
   "execution_count": 20,
   "id": "aa139556",
   "metadata": {},
   "outputs": [],
   "source": [
    "num_calls = 10000\n",
    "\n",
    "issue_types = [\n",
    "    'Routine Maintenance',\n",
    "    'Emergency Repair',\n",
    "    'Calibration',\n",
    "    'Electrical Fault',\n",
    "    'Mechanical Failure',\n",
    "    'Inspection',\n",
    "    'Sensor Replacement',\n",
    "    'Software Update'\n",
    "]\n",
    "# Create a date range of possible service dates\n",
    "date_range = pd.date_range (start = '2023-01-01', end = '2024-06-30').to_list()"
   ]
  },
  {
   "cell_type": "code",
   "execution_count": 24,
   "id": "6095d045",
   "metadata": {},
   "outputs": [],
   "source": [
    "calls = []\n",
    "\n",
    "for i in range(1, num_calls + 1):\n",
    "    call={\n",
    "        'call_id':f'C{i:05}',\n",
    "        'date': random.choice(date_range),\n",
    "        'technician_id': random.choice(df_techs['technician_id'].tolist()),\n",
    "        'machine_id': random.choice(df_machines['machine_id'].tolist()),\n",
    "        'issue_type': random.choice(issue_types),\n",
    "        'duration_hours': round(np.random.exponential(scale=2.5), 2) #an average of 2.5h fix time\n",
    "    }\n",
    "    calls.append(call)\n",
    "\n",
    "df_calls= pd.DataFrame(calls)\n",
    "df_calls.to_csv(\"service_calls.csv\", index = False)"
   ]
  }
 ],
 "metadata": {
  "kernelspec": {
   "display_name": "Python 3",
   "language": "python",
   "name": "python3"
  },
  "language_info": {
   "codemirror_mode": {
    "name": "ipython",
    "version": 3
   },
   "file_extension": ".py",
   "mimetype": "text/x-python",
   "name": "python",
   "nbconvert_exporter": "python",
   "pygments_lexer": "ipython3",
   "version": "3.13.0"
  }
 },
 "nbformat": 4,
 "nbformat_minor": 5
}
